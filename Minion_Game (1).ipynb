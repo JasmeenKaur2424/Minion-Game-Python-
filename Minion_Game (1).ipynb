{
 "cells": [
  {
   "cell_type": "code",
   "execution_count": null,
   "id": "e646e6e8-4a27-486e-8a57-68e9ce48bcf0",
   "metadata": {},
   "outputs": [],
   "source": [
    "                                                        Minion Game"
   ]
  },
  {
   "cell_type": "code",
   "execution_count": 11,
   "id": "49a5090f-6fd2-461e-80c1-4835a18c52e2",
   "metadata": {},
   "outputs": [],
   "source": [
    "def minion_game(string):\n",
    "    vowels = 'AEIOU'\n",
    "    kevin_score = 0\n",
    "    stuart_score = 0\n",
    "\n",
    "    for i in range(len(string)):\n",
    "        if string[i] in vowels:\n",
    "            kevin_score += len(string) - i\n",
    "        else:\n",
    "            stuart_score += len(string) - i\n",
    "\n",
    "    if kevin_score > stuart_score:\n",
    "        return f'Kevin {kevin_score}'\n",
    "    elif stuart_score > kevin_score:\n",
    "        return f'Stuart {stuart_score}'\n",
    "    else:\n",
    "        return 'Draw'"
   ]
  }
 ],
 "metadata": {
  "kernelspec": {
   "display_name": "Python 3 (ipykernel)",
   "language": "python",
   "name": "python3"
  },
  "language_info": {
   "codemirror_mode": {
    "name": "ipython",
    "version": 3
   },
   "file_extension": ".py",
   "mimetype": "text/x-python",
   "name": "python",
   "nbconvert_exporter": "python",
   "pygments_lexer": "ipython3",
   "version": "3.11.7"
  }
 },
 "nbformat": 4,
 "nbformat_minor": 5
}
